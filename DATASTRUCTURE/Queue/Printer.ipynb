{
 "cells": [
  {
   "cell_type": "code",
   "execution_count": 1,
   "metadata": {},
   "outputs": [],
   "source": [
    "class Queue:\n",
    "    def __init__(self):\n",
    "        self.items=[]\n",
    "    def is_empty(self):\n",
    "        return self.items==[]\n",
    "    def enqueue(self,item):\n",
    "        self.items.insert(0,item)\n",
    "    def dequeue(self):\n",
    "        return self.items.pop()\n",
    "    def size(self):\n",
    "        return len(self.items)\n",
    "    "
   ]
  },
  {
   "cell_type": "code",
   "execution_count": 17,
   "metadata": {},
   "outputs": [],
   "source": [
    "class Printer:\n",
    "    def __init__(self,ppm):\n",
    "        self.page_rate=ppm\n",
    "        self.current_task=None\n",
    "        self.time_remaining=0\n",
    "    def tick(self):\n",
    "        if self.current_task!=None:\n",
    "            self.time_remaining=self.time_remaining-1\n",
    "            if self.time_remaining<=0:\n",
    "                self.time_remaining=0\n",
    "    def busy(self):\n",
    "        return self.current_task!=None\n",
    "    def start_next(self,new_task):\n",
    "        self.current_task=new_task\n",
    "        self.time_remaining=new_task.get_pages()*60/self.page_rate"
   ]
  },
  {
   "cell_type": "code",
   "execution_count": 25,
   "metadata": {},
   "outputs": [],
   "source": [
    "import random\n",
    "class Task:\n",
    "    def __init__(self,time):\n",
    "        self.timestamp=time\n",
    "        self.pages=random.randrange(1,21)\n",
    "    def get_stamp(self):\n",
    "        return self.timestamp\n",
    "    def get_pages(self):\n",
    "        return self.pages\n",
    "    def wait_time(self,current_time):\n",
    "        return current_time-self.timestamp"
   ]
  },
  {
   "cell_type": "code",
   "execution_count": 26,
   "metadata": {},
   "outputs": [],
   "source": [
    "def new_print_task():\n",
    "    num=random.randrange(1,181)\n",
    "    return num==180"
   ]
  },
  {
   "cell_type": "code",
   "execution_count": 27,
   "metadata": {},
   "outputs": [],
   "source": [
    "def simulation(num_secs,pages_per_second):\n",
    "    lab_printer=Printer(pages_per_second)\n",
    "    print_queue=Queue()\n",
    "    waiting_times=[]\n",
    "    for sec in range(num_secs):\n",
    "        if new_print_task():\n",
    "            new_task=Task(sec)\n",
    "            print_queue.enqueue(new_task)\n",
    "        if (not lab_printer.busy())and(not print_queue.is_empty()):\n",
    "            next_task=print_queue.dequeue()\n",
    "            waiting_times.append(next_task.wait_time(sec))\n",
    "            lab_printer.start_next(next_task)\n",
    "        lab_printer.tick()\n",
    "    avg=sum(waiting_times)/(len(waiting_times)+1)\n",
    "    print('Average Wait %6.2f secs %3d tasks remaining'%(avg,print_queue.size()))\n",
    "        "
   ]
  },
  {
   "cell_type": "code",
   "execution_count": 28,
   "metadata": {},
   "outputs": [
    {
     "name": "stdout",
     "output_type": "stream",
     "text": [
      "Average Wait   0.00 secs  11 tasks remaining\n"
     ]
    }
   ],
   "source": [
    "simulation(3600,5)"
   ]
  },
  {
   "cell_type": "code",
   "execution_count": null,
   "metadata": {},
   "outputs": [],
   "source": []
  }
 ],
 "metadata": {
  "kernelspec": {
   "display_name": "Python 3",
   "language": "python",
   "name": "python3"
  },
  "language_info": {
   "codemirror_mode": {
    "name": "ipython",
    "version": 3
   },
   "file_extension": ".py",
   "mimetype": "text/x-python",
   "name": "python",
   "nbconvert_exporter": "python",
   "pygments_lexer": "ipython3",
   "version": "3.7.4"
  }
 },
 "nbformat": 4,
 "nbformat_minor": 4
}
