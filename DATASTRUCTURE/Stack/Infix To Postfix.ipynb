{
 "cells": [
  {
   "cell_type": "code",
   "execution_count": 3,
   "metadata": {},
   "outputs": [],
   "source": [
    "#尾部作为栈的顶端\n",
    "class Stack:\n",
    "    def __init__(self):\n",
    "        self.items=[]\n",
    "    def isEmpty(self):\n",
    "        return self.items==[]\n",
    "    def pop(self):\n",
    "        return self.items.pop()\n",
    "    def peek(self):\n",
    "        return self.items[len(self.items)-1]\n",
    "    def size(self):\n",
    "        return len(self.items)\n",
    "    def push(self,item):\n",
    "        self.items.append(item)"
   ]
  },
  {
   "cell_type": "code",
   "execution_count": 1,
   "metadata": {},
   "outputs": [],
   "source": [
    "#如果读入操作数输出\n",
    "#如果读入(压入栈\n",
    "#如果读入)弹栈直到遇到(\n",
    "#如果操作符优先级小于栈顶操作符优先级，弹栈直到栈顶优先级大于此操作符优先级\n",
    "def infix_to_postfix(infix_expr):\n",
    "    token_list=infix_expr.split(\" \")\n",
    "    precedence={}\n",
    "    precedence['^']=4\n",
    "    precedence['*']=3\n",
    "    precedence['/']=3\n",
    "    precedence['+']=2\n",
    "    precedence['-']=2\n",
    "    precedence['(']=1\n",
    "    s=Stack()\n",
    "    postfix_expr=[]\n",
    "    for token in token_list:\n",
    "        #输入的数字至多为1位\n",
    "        if token in 'ABCDEFGHIJKLMNOPQRSTUVWXYZ0123456789':\n",
    "            postfix_expr.append(token)\n",
    "        elif token==')':\n",
    "            top_token=s.pop()\n",
    "            while top_token!='(':\n",
    "                postfix_expr.append(top_token)\n",
    "                top_token=s.pop()\n",
    "        elif token=='(':\n",
    "            s.push(token)\n",
    "        else:\n",
    "            while (not s.isEmpty()) and (precedence[token]<=precedence[s.peek()]):\n",
    "                postfix_expr.append(s.pop())\n",
    "            s.push(token)\n",
    "    while not s.isEmpty():\n",
    "        postfix_expr.append(s.pop())\n",
    "    postfix_expr=\" \".join(postfix_expr)\n",
    "    return postfix_expr"
   ]
  },
  {
   "cell_type": "code",
   "execution_count": 37,
   "metadata": {},
   "outputs": [
    {
     "data": {
      "text/plain": [
       "' A B + C D +  *'"
      ]
     },
     "execution_count": 37,
     "metadata": {},
     "output_type": "execute_result"
    }
   ],
   "source": [
    "infix_to_postfix(' ( A + B ) * ( C + D ) ')"
   ]
  },
  {
   "cell_type": "code",
   "execution_count": 38,
   "metadata": {},
   "outputs": [
    {
     "data": {
      "text/plain": [
       "' A B + C  *'"
      ]
     },
     "execution_count": 38,
     "metadata": {},
     "output_type": "execute_result"
    }
   ],
   "source": [
    "infix_to_postfix(' ( A + B ) * C ')"
   ]
  },
  {
   "cell_type": "code",
   "execution_count": 39,
   "metadata": {},
   "outputs": [
    {
     "data": {
      "text/plain": [
       "'  A   B   C  * +'"
      ]
     },
     "execution_count": 39,
     "metadata": {},
     "output_type": "execute_result"
    }
   ],
   "source": [
    "infix_to_postfix('  A  +  B  *  C ')"
   ]
  },
  {
   "cell_type": "code",
   "execution_count": 4,
   "metadata": {},
   "outputs": [
    {
     "data": {
      "text/plain": [
       "'3 4 2 - ^'"
      ]
     },
     "execution_count": 4,
     "metadata": {},
     "output_type": "execute_result"
    }
   ],
   "source": [
    "infix_to_postfix('3 ^ ( 4 - 2 )')"
   ]
  },
  {
   "cell_type": "code",
   "execution_count": null,
   "metadata": {},
   "outputs": [],
   "source": []
  }
 ],
 "metadata": {
  "kernelspec": {
   "display_name": "Python 3",
   "language": "python",
   "name": "python3"
  },
  "language_info": {
   "codemirror_mode": {
    "name": "ipython",
    "version": 3
   },
   "file_extension": ".py",
   "mimetype": "text/x-python",
   "name": "python",
   "nbconvert_exporter": "python",
   "pygments_lexer": "ipython3",
   "version": "3.7.4"
  }
 },
 "nbformat": 4,
 "nbformat_minor": 4
}
