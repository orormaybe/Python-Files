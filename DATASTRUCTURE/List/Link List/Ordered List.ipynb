{
 "cells": [
  {
   "cell_type": "code",
   "execution_count": 2,
   "metadata": {},
   "outputs": [],
   "source": [
    "class Node:\n",
    "    def __init__(self,init_data):\n",
    "        self.data=init_data\n",
    "        self.next=None\n",
    "    def get_data(self):\n",
    "        return self.data\n",
    "    def get_next(self):\n",
    "        return self.next\n",
    "    def set_data(self,new_data):\n",
    "        self.data=new_data\n",
    "    def set_next(self,new_next):\n",
    "        self.next=new_next"
   ]
  },
  {
   "cell_type": "code",
   "execution_count": null,
   "metadata": {},
   "outputs": [],
   "source": [
    "class OrderedList:\n",
    "    def __init__(self):\n",
    "        self.head=None\n",
    "    def search(item):\n",
    "        stop=False\n",
    "        found=False\n",
    "        current=self.head\n",
    "        while current!=None and not stop and not found:\n",
    "            if current.get_data()==item:\n",
    "                found=True\n",
    "            elif current.get_data()>item:\n",
    "                stop=True\n",
    "            else:\n",
    "                current=current.get_next()\n",
    "        return found\n",
    "    def add(item):\n",
    "        stop=False\n",
    "        previous=None\n",
    "        current=self.head\n",
    "        while current!=None and not stop:\n",
    "            if current.get_data()>item:\n",
    "                stop=True\n",
    "            else:\n",
    "                previous=current\n",
    "                current=current.get_next()\n",
    "        temp=Node(item)\n",
    "        if previous=None:\n",
    "            temp.set_next(self.head.get_next())\n",
    "            self.head=temp\n",
    "        else:\n",
    "            previous.set_next(temp)\n",
    "            temp.set_next(current)\n",
    "            "
   ]
  }
 ],
 "metadata": {
  "kernelspec": {
   "display_name": "Python 3",
   "language": "python",
   "name": "python3"
  },
  "language_info": {
   "codemirror_mode": {
    "name": "ipython",
    "version": 3
   },
   "file_extension": ".py",
   "mimetype": "text/x-python",
   "name": "python",
   "nbconvert_exporter": "python",
   "pygments_lexer": "ipython3",
   "version": "3.7.4"
  }
 },
 "nbformat": 4,
 "nbformat_minor": 4
}
