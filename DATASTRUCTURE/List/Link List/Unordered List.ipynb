{
 "cells": [
  {
   "cell_type": "code",
   "execution_count": 11,
   "metadata": {},
   "outputs": [],
   "source": [
    "class Node:\n",
    "    def __init__(self,init_data):\n",
    "        self.data=init_data\n",
    "        self.next=None\n",
    "    def get_data(self):\n",
    "        return self.data\n",
    "    def get_next(self):\n",
    "        return self.next\n",
    "    def set_data(self,new_data):\n",
    "        self.data=new_data\n",
    "    def set_next(self,new_next):\n",
    "        self.next=new_next"
   ]
  },
  {
   "cell_type": "code",
   "execution_count": 14,
   "metadata": {},
   "outputs": [
    {
     "ename": "SyntaxError",
     "evalue": "invalid syntax (<ipython-input-14-5f869ebe24a0>, line 13)",
     "output_type": "error",
     "traceback": [
      "\u001b[1;36m  File \u001b[1;32m\"<ipython-input-14-5f869ebe24a0>\"\u001b[1;36m, line \u001b[1;32m13\u001b[0m\n\u001b[1;33m    while current!=None\u001b[0m\n\u001b[1;37m                       ^\u001b[0m\n\u001b[1;31mSyntaxError\u001b[0m\u001b[1;31m:\u001b[0m invalid syntax\n"
     ]
    }
   ],
   "source": [
    "class UnorderedList:\n",
    "    def __init__(self):\n",
    "        self.head=None\n",
    "    def is_empty(self):\n",
    "        return self.Head==None\n",
    "    def add(self,data):\n",
    "        temp=Node(data)\n",
    "        temp.set_next(self.head)\n",
    "        self.head=temp\n",
    "    def size(self):\n",
    "        current=self.head\n",
    "        count=0\n",
    "        while current!=None\n",
    "        count=count+1\n",
    "        current=current.get_next()\n",
    "    def search(self,item):\n",
    "        current=self.head\n",
    "        found=False\n",
    "        while (current!=None) and (not found):\n",
    "            if current.get_data()==item:\n",
    "                found=True\n",
    "            else:\n",
    "                current=current.get_next()\n",
    "        return found\n",
    "    def remove(self,item):\n",
    "        found=False\n",
    "        current=self.head\n",
    "        previous=None\n",
    "        while not found:\n",
    "            if current.get_data()==item:\n",
    "                found=True\n",
    "            else:\n",
    "                previous=current\n",
    "                current=current.get_next()\n",
    "        #如果删除的是第一个节点\n",
    "        if previous==None:\n",
    "            self.head=current.get_next()\n",
    "        else:\n",
    "            previous.set_next(current.get_next())\n",
    "            "
   ]
  },
  {
   "cell_type": "code",
   "execution_count": 9,
   "metadata": {},
   "outputs": [],
   "source": [
    "\n",
    "te=Node(5)"
   ]
  },
  {
   "cell_type": "code",
   "execution_count": 10,
   "metadata": {},
   "outputs": [
    {
     "data": {
      "text/plain": [
       "5"
      ]
     },
     "execution_count": 10,
     "metadata": {},
     "output_type": "execute_result"
    }
   ],
   "source": [
    "te.data"
   ]
  },
  {
   "cell_type": "code",
   "execution_count": null,
   "metadata": {},
   "outputs": [],
   "source": []
  }
 ],
 "metadata": {
  "kernelspec": {
   "display_name": "Python 3",
   "language": "python",
   "name": "python3"
  },
  "language_info": {
   "codemirror_mode": {
    "name": "ipython",
    "version": 3
   },
   "file_extension": ".py",
   "mimetype": "text/x-python",
   "name": "python",
   "nbconvert_exporter": "python",
   "pygments_lexer": "ipython3",
   "version": "3.7.4"
  }
 },
 "nbformat": 4,
 "nbformat_minor": 4
}
