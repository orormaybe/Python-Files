{
 "cells": [
  {
   "cell_type": "code",
   "execution_count": 19,
   "metadata": {},
   "outputs": [],
   "source": [
    "def merge_sort(a_list):\n",
    "    #split\n",
    "    print(\"spliting\",a_list)\n",
    "    if len(a_list)>1:\n",
    "        mid=len(a_list)//2\n",
    "        left=a_list[:mid]\n",
    "        right=a_list[mid:]\n",
    "        merge_sort(left)\n",
    "        merge_sort(right)\n",
    "        #merge\n",
    "        i=0\n",
    "        j=0\n",
    "        k=0\n",
    "        while i<len(left) and j<len(right):\n",
    "            if left[i]<right[j]:\n",
    "                a_list[k]=left[i]\n",
    "                i+=1\n",
    "            else:\n",
    "                a_list[k]=right[j]\n",
    "                j+=1\n",
    "            k+=1\n",
    "        while i<len(left):\n",
    "            a_list[k]=left[i]\n",
    "            i+=1\n",
    "            k+=1\n",
    "        while j<len(right):\n",
    "            a_list[k]=right[j]\n",
    "            j+=1\n",
    "            k+=1\n",
    "    print(\"merging\",a_list)"
   ]
  },
  {
   "cell_type": "code",
   "execution_count": 20,
   "metadata": {},
   "outputs": [],
   "source": [
    "a_list=[54,26,93,17,77,31,44,55,20]"
   ]
  },
  {
   "cell_type": "code",
   "execution_count": 21,
   "metadata": {},
   "outputs": [
    {
     "name": "stdout",
     "output_type": "stream",
     "text": [
      "spliting [54, 26, 93, 17, 77, 31, 44, 55, 20]\n",
      "spliting [54, 26, 93, 17]\n",
      "spliting [54, 26]\n",
      "spliting [54]\n",
      "merging [54]\n",
      "spliting [26]\n",
      "merging [26]\n",
      "merging [26, 54]\n",
      "spliting [93, 17]\n",
      "spliting [93]\n",
      "merging [93]\n",
      "spliting [17]\n",
      "merging [17]\n",
      "merging [17, 93]\n",
      "merging [17, 26, 54, 93]\n",
      "spliting [77, 31, 44, 55, 20]\n",
      "spliting [77, 31]\n",
      "spliting [77]\n",
      "merging [77]\n",
      "spliting [31]\n",
      "merging [31]\n",
      "merging [31, 77]\n",
      "spliting [44, 55, 20]\n",
      "spliting [44]\n",
      "merging [44]\n",
      "spliting [55, 20]\n",
      "spliting [55]\n",
      "merging [55]\n",
      "spliting [20]\n",
      "merging [20]\n",
      "merging [20, 55]\n",
      "merging [20, 44, 55]\n",
      "merging [20, 31, 44, 55, 77]\n",
      "merging [17, 20, 26, 31, 44, 54, 55, 77, 93]\n"
     ]
    }
   ],
   "source": [
    "merge_sort(a_list)"
   ]
  },
  {
   "cell_type": "code",
   "execution_count": 18,
   "metadata": {},
   "outputs": [
    {
     "data": {
      "text/plain": [
       "[17, 20, 26, 31, 44, 54, 55, 77, 93]"
      ]
     },
     "execution_count": 18,
     "metadata": {},
     "output_type": "execute_result"
    }
   ],
   "source": [
    "a_list"
   ]
  },
  {
   "cell_type": "code",
   "execution_count": null,
   "metadata": {},
   "outputs": [],
   "source": []
  }
 ],
 "metadata": {
  "kernelspec": {
   "display_name": "Python 3",
   "language": "python",
   "name": "python3"
  },
  "language_info": {
   "codemirror_mode": {
    "name": "ipython",
    "version": 3
   },
   "file_extension": ".py",
   "mimetype": "text/x-python",
   "name": "python",
   "nbconvert_exporter": "python",
   "pygments_lexer": "ipython3",
   "version": "3.7.4"
  }
 },
 "nbformat": 4,
 "nbformat_minor": 4
}
