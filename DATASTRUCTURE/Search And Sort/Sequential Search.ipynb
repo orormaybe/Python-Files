{
 "cells": [
  {
   "cell_type": "code",
   "execution_count": 9,
   "metadata": {},
   "outputs": [],
   "source": [
    "#无序列表的顺序搜索\n",
    "def sequential_search(a_list,item):\n",
    "    pos=0\n",
    "    found=False\n",
    "    while pos<len(a_list) and not found:\n",
    "        if a_list[pos]==item:\n",
    "            found=True\n",
    "            break\n",
    "        else:\n",
    "            pos=pos+1\n",
    "    return found"
   ]
  },
  {
   "cell_type": "code",
   "execution_count": 10,
   "metadata": {},
   "outputs": [
    {
     "data": {
      "text/plain": [
       "True"
      ]
     },
     "execution_count": 10,
     "metadata": {},
     "output_type": "execute_result"
    }
   ],
   "source": [
    "sequential_search([12,23,123,32],32)"
   ]
  },
  {
   "cell_type": "code",
   "execution_count": 16,
   "metadata": {},
   "outputs": [],
   "source": [
    "#有序列表的顺序搜索\n",
    "#只有在列表不存在查找元素时，才会提高效率\n",
    "def OrderedSequentialSearch(a_list,item):\n",
    "    found=False\n",
    "    ops=0\n",
    "    while ops<len(a_list) and not found:\n",
    "        if item<a_list[ops]:\n",
    "            break\n",
    "        elif a_list[ops]==item:\n",
    "            found=True\n",
    "            break\n",
    "        else:\n",
    "            ops=ops+1\n",
    "    return found"
   ]
  },
  {
   "cell_type": "code",
   "execution_count": 15,
   "metadata": {},
   "outputs": [
    {
     "data": {
      "text/plain": [
       "True"
      ]
     },
     "execution_count": 15,
     "metadata": {},
     "output_type": "execute_result"
    }
   ],
   "source": [
    "OrderedSequentialSearch([23,25,56,78],25)"
   ]
  },
  {
   "cell_type": "code",
   "execution_count": null,
   "metadata": {},
   "outputs": [],
   "source": []
  }
 ],
 "metadata": {
  "kernelspec": {
   "display_name": "Python 3",
   "language": "python",
   "name": "python3"
  },
  "language_info": {
   "codemirror_mode": {
    "name": "ipython",
    "version": 3
   },
   "file_extension": ".py",
   "mimetype": "text/x-python",
   "name": "python",
   "nbconvert_exporter": "python",
   "pygments_lexer": "ipython3",
   "version": "3.7.4"
  }
 },
 "nbformat": 4,
 "nbformat_minor": 4
}
