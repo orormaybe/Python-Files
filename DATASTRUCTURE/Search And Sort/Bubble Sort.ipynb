{
 "cells": [
  {
   "cell_type": "code",
   "execution_count": 44,
   "metadata": {},
   "outputs": [],
   "source": [
    "\n",
    "#从小到大排序\n",
    "def bubble_sort(a_list):\n",
    "    for i in range(len(a_list)-1,0,-1):\n",
    "        for j in range(0,i):\n",
    "            if a_list[j]>a_list[j+1]:\n",
    "                a_list[j],a_list[j+1]=a_list[j+1],a_list[j]\n",
    "            "
   ]
  },
  {
   "cell_type": "code",
   "execution_count": 45,
   "metadata": {},
   "outputs": [],
   "source": [
    "a_list=[4,5,1,9,3,5,2]"
   ]
  },
  {
   "cell_type": "code",
   "execution_count": 46,
   "metadata": {},
   "outputs": [],
   "source": [
    "bubble_sort(a_list)"
   ]
  },
  {
   "cell_type": "code",
   "execution_count": 47,
   "metadata": {},
   "outputs": [
    {
     "data": {
      "text/plain": [
       "[1, 2, 3, 4, 5, 5, 9]"
      ]
     },
     "execution_count": 47,
     "metadata": {},
     "output_type": "execute_result"
    }
   ],
   "source": [
    "a_list"
   ]
  },
  {
   "cell_type": "code",
   "execution_count": 49,
   "metadata": {},
   "outputs": [],
   "source": [
    "def short_bubble_sort(a_list):\n",
    "    pass_num=len(a_list)-1\n",
    "    exchange=True\n",
    "    while pass_num!=0 and exchange:\n",
    "        exchange=False\n",
    "        for i in range(0,pass_num):\n",
    "            if a_list[i]>a_list[i+1]:\n",
    "                a_list[i],a_list[i+1]=a_list[i+1],a_list[i]\n",
    "                exchange=True\n",
    "        pass_num=pass_num-1"
   ]
  },
  {
   "cell_type": "code",
   "execution_count": 50,
   "metadata": {},
   "outputs": [],
   "source": [
    "a_list=[4,5,1,9,3,5,2]\n",
    "short_bubble_sort(a_list)"
   ]
  },
  {
   "cell_type": "code",
   "execution_count": 51,
   "metadata": {},
   "outputs": [
    {
     "data": {
      "text/plain": [
       "[1, 2, 3, 4, 5, 5, 9]"
      ]
     },
     "execution_count": 51,
     "metadata": {},
     "output_type": "execute_result"
    }
   ],
   "source": [
    "a_list"
   ]
  },
  {
   "cell_type": "code",
   "execution_count": 52,
   "metadata": {},
   "outputs": [],
   "source": [
    "#从大到小排序\n",
    "def reverse_bubble_sort(a_list):\n",
    "    pass_num=len(a_list)-1\n",
    "    exchange=True\n",
    "    while pass_num!=0 and exchange:\n",
    "        exchange=False\n",
    "        for i in range(0,pass_num):\n",
    "            if a_list[i]<a_list[i+1]:\n",
    "                a_list[i],a_list[i+1]=a_list[i+1],a_list[i]\n",
    "                exchange=True\n",
    "        pass_num=pass_num-1\n",
    "    "
   ]
  },
  {
   "cell_type": "code",
   "execution_count": 53,
   "metadata": {},
   "outputs": [],
   "source": [
    "a_list=[4,5,1,9,3,5,2]"
   ]
  },
  {
   "cell_type": "code",
   "execution_count": 54,
   "metadata": {},
   "outputs": [],
   "source": [
    "reverse_bubble_sort(a_list)"
   ]
  },
  {
   "cell_type": "code",
   "execution_count": 55,
   "metadata": {},
   "outputs": [
    {
     "data": {
      "text/plain": [
       "[9, 5, 5, 4, 3, 2, 1]"
      ]
     },
     "execution_count": 55,
     "metadata": {},
     "output_type": "execute_result"
    }
   ],
   "source": [
    "a_list"
   ]
  },
  {
   "cell_type": "code",
   "execution_count": null,
   "metadata": {},
   "outputs": [],
   "source": [
    "\n",
    "\n"
   ]
  }
 ],
 "metadata": {
  "kernelspec": {
   "display_name": "Python 3",
   "language": "python",
   "name": "python3"
  },
  "language_info": {
   "codemirror_mode": {
    "name": "ipython",
    "version": 3
   },
   "file_extension": ".py",
   "mimetype": "text/x-python",
   "name": "python",
   "nbconvert_exporter": "python",
   "pygments_lexer": "ipython3",
   "version": "3.7.4"
  }
 },
 "nbformat": 4,
 "nbformat_minor": 4
}
