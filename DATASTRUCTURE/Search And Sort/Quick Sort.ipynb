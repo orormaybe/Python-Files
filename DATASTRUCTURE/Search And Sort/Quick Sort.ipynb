{
 "cells": [
  {
   "cell_type": "code",
   "execution_count": 27,
   "metadata": {},
   "outputs": [],
   "source": [
    "def partition(a_list,first,last):\n",
    "    pivot=a_list[first]\n",
    "    left=first+1\n",
    "    right=last\n",
    "    done=False\n",
    "    while not done:\n",
    "        while a_list[left]<=pivot and left<=right:\n",
    "            left=left+1\n",
    "        while a_list[right]>=pivot and left<=right:\n",
    "            right=right-1\n",
    "        if left>right:\n",
    "            done=True\n",
    "        else:\n",
    "            temp=a_list[left]\n",
    "            a_list[left]=a_list[right]\n",
    "            a_list[right]=temp\n",
    "    temp=a_list[first]\n",
    "    a_list[first]=a_list[right]\n",
    "    a_list[right]=temp\n",
    "    return right"
   ]
  },
  {
   "cell_type": "code",
   "execution_count": 28,
   "metadata": {},
   "outputs": [],
   "source": [
    "def quick_sort_helper(a_list,first,last):\n",
    "    if first<last:\n",
    "        split_point=partition(a_list,first,last)\n",
    "        quick_sort_helper(a_list,first,split_point-1)\n",
    "        quick_sort_helper(a_list,split_point+1,last)"
   ]
  },
  {
   "cell_type": "code",
   "execution_count": 29,
   "metadata": {},
   "outputs": [],
   "source": [
    "def quick_sort(a_list):\n",
    "    quick_sort_helper(a_list,0,len(a_list)-1)"
   ]
  },
  {
   "cell_type": "code",
   "execution_count": 33,
   "metadata": {},
   "outputs": [],
   "source": [
    "a_list=[54,26,93,54,17,77,31,44,55,20]"
   ]
  },
  {
   "cell_type": "code",
   "execution_count": 34,
   "metadata": {},
   "outputs": [],
   "source": [
    "quick_sort(a_list)"
   ]
  },
  {
   "cell_type": "code",
   "execution_count": 35,
   "metadata": {},
   "outputs": [
    {
     "data": {
      "text/plain": [
       "[17, 20, 26, 31, 44, 54, 54, 55, 77, 93]"
      ]
     },
     "execution_count": 35,
     "metadata": {},
     "output_type": "execute_result"
    }
   ],
   "source": [
    "a_list"
   ]
  },
  {
   "cell_type": "code",
   "execution_count": null,
   "metadata": {},
   "outputs": [],
   "source": []
  }
 ],
 "metadata": {
  "kernelspec": {
   "display_name": "Python 3",
   "language": "python",
   "name": "python3"
  },
  "language_info": {
   "codemirror_mode": {
    "name": "ipython",
    "version": 3
   },
   "file_extension": ".py",
   "mimetype": "text/x-python",
   "name": "python",
   "nbconvert_exporter": "python",
   "pygments_lexer": "ipython3",
   "version": "3.7.4"
  }
 },
 "nbformat": 4,
 "nbformat_minor": 4
}
