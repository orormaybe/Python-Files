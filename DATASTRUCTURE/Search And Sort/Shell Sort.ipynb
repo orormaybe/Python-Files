{
 "cells": [
  {
   "cell_type": "code",
   "execution_count": 1,
   "metadata": {},
   "outputs": [],
   "source": [
    "def insert_gap_sort(a_list,gap,start):\n",
    "    for i in range(start+gap,len(a_list),gap):\n",
    "        current=a_list[i]\n",
    "        position=i\n",
    "        while position>=gap and current<a_list[position-gap]:\n",
    "            a_list[position]=a_list[position-gap]\n",
    "            position-=gap\n",
    "        a_list[position]=current"
   ]
  },
  {
   "cell_type": "code",
   "execution_count": 4,
   "metadata": {},
   "outputs": [],
   "source": [
    "def shell_sort(a_list):\n",
    "    count=len(a_list)//2\n",
    "    while count>0:\n",
    "        for i in range(count):\n",
    "            insert_gap_sort(a_list,count,i)\n",
    "        count//=2\n",
    "        "
   ]
  },
  {
   "cell_type": "code",
   "execution_count": 8,
   "metadata": {},
   "outputs": [],
   "source": [
    "a_list=[54,26,93,17,77,31,44,55,120]\n",
    "shell_sort(a_list)"
   ]
  },
  {
   "cell_type": "code",
   "execution_count": 9,
   "metadata": {},
   "outputs": [
    {
     "data": {
      "text/plain": [
       "[17, 26, 31, 44, 54, 55, 77, 93, 120]"
      ]
     },
     "execution_count": 9,
     "metadata": {},
     "output_type": "execute_result"
    }
   ],
   "source": [
    "a_list"
   ]
  },
  {
   "cell_type": "code",
   "execution_count": null,
   "metadata": {},
   "outputs": [],
   "source": []
  }
 ],
 "metadata": {
  "kernelspec": {
   "display_name": "Python 3",
   "language": "python",
   "name": "python3"
  },
  "language_info": {
   "codemirror_mode": {
    "name": "ipython",
    "version": 3
   },
   "file_extension": ".py",
   "mimetype": "text/x-python",
   "name": "python",
   "nbconvert_exporter": "python",
   "pygments_lexer": "ipython3",
   "version": "3.7.4"
  }
 },
 "nbformat": 4,
 "nbformat_minor": 4
}
